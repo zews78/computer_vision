{
 "cells": [
  {
   "cell_type": "code",
   "execution_count": 1,
   "metadata": {},
   "outputs": [],
   "source": [
    "import cv2 as cv# when capture is working\n",
    "while capture.isOpened():\n",
    "    success, frame = capture.read()\n",
    "    if success == True:\n",
    "        \n",
    "#         frame = cv.flip(frame,"
   ]
  },
  {
   "cell_type": "code",
   "execution_count": 2,
   "metadata": {},
   "outputs": [],
   "source": [
    "import numpy as np"
   ]
  },
  {
   "cell_type": "code",
   "execution_count": 8,
   "metadata": {},
   "outputs": [],
   "source": [
    "capture = cv.VideoCapture('/home/zews/Downloads/InShot_excelerentum.mp4')"
   ]
  },
  {
   "cell_type": "code",
   "execution_count": 35,
   "metadata": {},
   "outputs": [],
   "source": [
    "capture = cv.VideoCapture(0)\n",
    "# capture.set(3,480)\n",
    "# capture.set(4,240)\n",
    "# capture.set(10,80) #to set brightness"
   ]
  },
  {
   "cell_type": "code",
   "execution_count": 34,
   "metadata": {},
   "outputs": [],
   "source": [
    "# when capture is working\n",
    "while capture.isOpened():\n",
    "#     capture frame by frame\n",
    "    success, frame = capture.read()\n",
    "    if success == True:\n",
    "#         flipcode = 0: flip vertically\n",
    "#         flipcode > 0: flip horizontally\n",
    "#         flipcode < 0: flip vertically and horizontally\n",
    "        frame = cv.flip(frame,1)\n",
    "        cv.imshow('video',frame)\n",
    "    #     waitkey(speed) lower the value higher the speed because it is the delay time for each frame.\n",
    "        key = cv.waitKey(25)\n",
    "        if key == 27:\n",
    "            break\n",
    "    else:\n",
    "        print('Can not recieve frame')\n",
    "        break\n",
    "\n",
    "# when everything is done\n",
    "capture.release()\n",
    "cv.destroyAllWindows()"
   ]
  },
  {
   "cell_type": "code",
   "execution_count": null,
   "metadata": {},
   "outputs": [],
   "source": []
  }
 ],
 "metadata": {
  "kernelspec": {
   "display_name": "Python 3",
   "language": "python",
   "name": "python3"
  },
  "language_info": {
   "codemirror_mode": {
    "name": "ipython",
    "version": 3
   },
   "file_extension": ".py",
   "mimetype": "text/x-python",
   "name": "python",
   "nbconvert_exporter": "python",
   "pygments_lexer": "ipython3",
   "version": "3.8.5"
  }
 },
 "nbformat": 4,
 "nbformat_minor": 4
}
